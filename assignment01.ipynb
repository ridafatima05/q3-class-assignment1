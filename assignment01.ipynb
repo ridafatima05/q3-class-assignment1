{
  "nbformat": 4,
  "nbformat_minor": 0,
  "metadata": {
    "colab": {
      "provenance": [],
      "authorship_tag": "ABX9TyN321rb9G4s39VNeyXgtkGZ",
      "include_colab_link": true
    },
    "kernelspec": {
      "name": "python3",
      "display_name": "Python 3"
    },
    "language_info": {
      "name": "python"
    }
  },
  "cells": [
    {
      "cell_type": "markdown",
      "metadata": {
        "id": "view-in-github",
        "colab_type": "text"
      },
      "source": [
        "<a href=\"https://colab.research.google.com/github/ridafatima05/q3-class-assignment1/blob/main/assignment01.ipynb\" target=\"_parent\"><img src=\"https://colab.research.google.com/assets/colab-badge.svg\" alt=\"Open In Colab\"/></a>"
      ]
    },
    {
      "cell_type": "code",
      "execution_count": null,
      "metadata": {
        "colab": {
          "base_uri": "https://localhost:8080/"
        },
        "id": "lPSxTwP3H4Ro",
        "outputId": "7e6b68fb-eb3b-4315-d1f4-38ba541f6422"
      },
      "outputs": [
        {
          "output_type": "stream",
          "name": "stdout",
          "text": [
            "Qaid e Azam once said: \"Unity, Faith, Discipline.\" \n",
            "It's a Beautiful Day!\n",
            " My favorite hobby is Skating. \n",
            "I love the feeling of gliding on wheels and the thrill of learning new tricks.\n",
            "It's a great way to stay active, challenge myself, and have fun.\n",
            "I have been skating for years, and i still enjoy it everyday.\n"
          ]
        }
      ],
      "source": [
        "#ASSIGNMENT 01 (THURSDAY MORNING CLASS - QUARTER 3)\n",
        "#part1\n",
        "#Signle Quote are useful for strings containing double quote like:\n",
        "quote = 'Qaid e Azam once said: \"Unity, Faith, Discipline.\" '\n",
        "print(quote)\n",
        "\n",
        "#Double Quotes are useful for strings conatining single quote like :\n",
        "sentence = \"It's a Beautiful Day!\"\n",
        "print(sentence)\n",
        "\n",
        "#Triple Quotes are useful for multi line strings and string containing both single and double quotes.\n",
        "hobby = \"\"\" My favorite hobby is Skating.\n",
        "I love the feeling of gliding on wheels and the thrill of learning new tricks.\n",
        "It's a great way to stay active, challenge myself, and have fun.\n",
        "I have been skating for years, and i still enjoy it everyday.\"\"\"\n",
        "print(hobby)\n",
        "\n",
        "\n"
      ]
    },
    {
      "cell_type": "code",
      "source": [
        "#part2\n",
        "full_name = \"Rida Fatima\"\n",
        "print(full_name.lower()) #rida fatima\n",
        "print(full_name.upper()) #RIDA FATIMA\n",
        "print(full_name.title()) #Rida Fatima\n",
        "\n",
        "\n",
        "messy_text = \"Python programming is fun!\"\n",
        "\n",
        "#remove all extra spaces\n",
        "clean_text = messy_text.strip()\n",
        "print(\"Clean Text:\", clean_text)\n",
        "\n",
        "#Replace Fun with Amazing\n",
        "amazing_text = clean_text.replace(\"fun\", \"amazing\")\n",
        "print(\"Amazing Text :\",amazing_text)\n",
        "\n",
        "#Count how many time the letter \"i\" appears\n",
        "count_i = amazing_text.lower().count('i')\n",
        "print(\"The letter 'i' appears\", count_i , \"times.\")\n"
      ],
      "metadata": {
        "colab": {
          "base_uri": "https://localhost:8080/"
        },
        "id": "E4nqXXDwg3WG",
        "outputId": "58211b2d-526c-4bcf-8b80-1a6896b8b960"
      },
      "execution_count": null,
      "outputs": [
        {
          "output_type": "stream",
          "name": "stdout",
          "text": [
            "rida fatima\n",
            "RIDA FATIMA\n",
            "Rida Fatima\n",
            "Clean Text: Python programming is fun!\n",
            "Amazing Text : Python programming is amazing!\n",
            "The letter 'i' appears 3 times.\n"
          ]
        }
      ]
    },
    {
      "cell_type": "code",
      "source": [
        "#part3\n",
        "sentence = \"The quick brown fox jumps over the lazy dog.\"\n",
        "#split the sentence into a list of words\n",
        "words = sentence.split()\n",
        "print(\"Words:\",words)\n",
        "\n",
        "#join the words back with dashes between them\n",
        "dashes_sentence = \"-\".join(words)\n",
        "print(\"Dashed Sentence:\", dashes_sentence)\n",
        "\n",
        "#check if the sentence starts with \"the\"\n",
        "if sentence.startswith(\"The\"):\n",
        "  print(\"The sentence starts with 'The'.\")\n",
        "\n",
        "#find position of the word of fox\n",
        "fox_index = words.index(\"fox\")\n",
        "print(\"The word 'fox' is at position\", fox_index)\n",
        "\n",
        "\n",
        "\n",
        "\n",
        "#create multi variables and use with f-strings\n",
        "my_name = \"Rida Fatima\"\n",
        "my_age = 18\n",
        "facvorite_programming_lang = \"Pyhton\"\n",
        "print (f\"Hey Everyone! This is me {my_name}. I'm {my_age} years old.\")\n",
        "print(f\"I enjoy programming in {facvorite_programming_lang}, it;s one of my favorite!\")\n",
        "\n",
        "#create math expression inside f-strings\n",
        "print(f\"In Sha Alla! In 5 years, I will be {my_age + 5} years old.\")\n",
        "\n"
      ],
      "metadata": {
        "colab": {
          "base_uri": "https://localhost:8080/"
        },
        "id": "OSIGxIwtjnMs",
        "outputId": "d1d69663-1284-4e35-9f4d-934ffbe1c1c8"
      },
      "execution_count": null,
      "outputs": [
        {
          "output_type": "stream",
          "name": "stdout",
          "text": [
            "Words: ['The', 'quick', 'brown', 'fox', 'jumps', 'over', 'the', 'lazy', 'dog.']\n",
            "Dashed Sentence: The-quick-brown-fox-jumps-over-the-lazy-dog.\n",
            "The sentence starts with 'The'.\n",
            "The word 'fox' is at position 3\n",
            "Hey Everyone! This is me Rida Fatima. I'm 18 years old.\n",
            "I enjoy programming in Pyhton, it;s one of my favorite!\n",
            "In Sha Alla! In 5 years, I will be 23 years old.\n"
          ]
        }
      ]
    },
    {
      "cell_type": "code",
      "source": [
        "#part4\n",
        "#ask for user input\n",
        "\n",
        "\n",
        "\n",
        "from datetime import datetime\n",
        "# Ask for user input\n",
        "first_name = input(\"Please enter your first name: \")\n",
        "last_name = input(\"Please enter your last name: \")\n",
        "birth_year = int(input(\"Please enter your birth year: \"))\n",
        "\n",
        "# Capitalize the first and last name\n",
        "first_name = first_name.capitalize()\n",
        "last_name = last_name.capitalize()\n",
        "\n",
        "# Calculate age\n",
        "current_year = datetime.now().year\n",
        "age = current_year - birth_year\n",
        "\n",
        "# Create username\n",
        "username = first_name+last_name + str(birth_year)\n",
        "\n",
        "# Profile message\n",
        "profile_message = (f\"Profile: {first_name} {last_name} \\nAge: {age} \\nUsername: {username}\")\n",
        "\n",
        "# Display the profile message\n",
        "print(\"\\n\" + profile_message)\n",
        "\n",
        "\n",
        "\n",
        "\n",
        "\n",
        "\n",
        "\n",
        "\n",
        "\n",
        "\n",
        "\n",
        "\n",
        "\n",
        "\n",
        "\n",
        "\n",
        "\n",
        "\n",
        "\n"
      ],
      "metadata": {
        "colab": {
          "base_uri": "https://localhost:8080/"
        },
        "id": "8N3Ajg-Fm9up",
        "outputId": "0f06495b-0e82-4940-eb74-a219c3d49e55"
      },
      "execution_count": null,
      "outputs": [
        {
          "output_type": "stream",
          "name": "stdout",
          "text": [
            "Please enter your first name: \n",
            "Please enter your last name: fati\n",
            "Please enter your birth year: 7777\n",
            "\n",
            "Profile:  Fati \n",
            "Age: -5752 \n",
            "Username: Fati7777\n"
          ]
        }
      ]
    },
    {
      "cell_type": "code",
      "source": [],
      "metadata": {
        "id": "A-hWOx5fnpIA"
      },
      "execution_count": null,
      "outputs": []
    }
  ]
}